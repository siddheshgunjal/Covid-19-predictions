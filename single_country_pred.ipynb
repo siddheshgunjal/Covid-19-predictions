{
 "cells": [
  {
   "cell_type": "code",
   "execution_count": 41,
   "metadata": {},
   "outputs": [],
   "source": [
    "import pandas as pd\n",
    "import numpy as np"
   ]
  },
  {
   "cell_type": "code",
   "execution_count": 42,
   "metadata": {
    "scrolled": true
   },
   "outputs": [
    {
     "data": {
      "text/html": [
       "<div>\n",
       "<style scoped>\n",
       "    .dataframe tbody tr th:only-of-type {\n",
       "        vertical-align: middle;\n",
       "    }\n",
       "\n",
       "    .dataframe tbody tr th {\n",
       "        vertical-align: top;\n",
       "    }\n",
       "\n",
       "    .dataframe thead th {\n",
       "        text-align: right;\n",
       "    }\n",
       "</style>\n",
       "<table border=\"1\" class=\"dataframe\">\n",
       "  <thead>\n",
       "    <tr style=\"text-align: right;\">\n",
       "      <th></th>\n",
       "      <th>Country/Region</th>\n",
       "      <th>1/22/20</th>\n",
       "      <th>1/23/20</th>\n",
       "      <th>1/24/20</th>\n",
       "      <th>1/25/20</th>\n",
       "      <th>1/26/20</th>\n",
       "      <th>1/27/20</th>\n",
       "      <th>1/28/20</th>\n",
       "      <th>1/29/20</th>\n",
       "      <th>1/30/20</th>\n",
       "      <th>...</th>\n",
       "      <th>6/9/20</th>\n",
       "      <th>6/10/20</th>\n",
       "      <th>6/11/20</th>\n",
       "      <th>6/12/20</th>\n",
       "      <th>6/13/20</th>\n",
       "      <th>6/14/20</th>\n",
       "      <th>6/15/20</th>\n",
       "      <th>6/16/20</th>\n",
       "      <th>6/17/20</th>\n",
       "      <th>6/18/20</th>\n",
       "    </tr>\n",
       "  </thead>\n",
       "  <tbody>\n",
       "    <tr>\n",
       "      <th>0</th>\n",
       "      <td>Afghanistan</td>\n",
       "      <td>0</td>\n",
       "      <td>0</td>\n",
       "      <td>0</td>\n",
       "      <td>0</td>\n",
       "      <td>0</td>\n",
       "      <td>0</td>\n",
       "      <td>0</td>\n",
       "      <td>0</td>\n",
       "      <td>0</td>\n",
       "      <td>...</td>\n",
       "      <td>21459</td>\n",
       "      <td>22142</td>\n",
       "      <td>22890</td>\n",
       "      <td>23546</td>\n",
       "      <td>24102</td>\n",
       "      <td>24766</td>\n",
       "      <td>25527</td>\n",
       "      <td>26310</td>\n",
       "      <td>26874</td>\n",
       "      <td>27532</td>\n",
       "    </tr>\n",
       "    <tr>\n",
       "      <th>1</th>\n",
       "      <td>Albania</td>\n",
       "      <td>0</td>\n",
       "      <td>0</td>\n",
       "      <td>0</td>\n",
       "      <td>0</td>\n",
       "      <td>0</td>\n",
       "      <td>0</td>\n",
       "      <td>0</td>\n",
       "      <td>0</td>\n",
       "      <td>0</td>\n",
       "      <td>...</td>\n",
       "      <td>1299</td>\n",
       "      <td>1341</td>\n",
       "      <td>1385</td>\n",
       "      <td>1416</td>\n",
       "      <td>1464</td>\n",
       "      <td>1521</td>\n",
       "      <td>1590</td>\n",
       "      <td>1672</td>\n",
       "      <td>1722</td>\n",
       "      <td>1788</td>\n",
       "    </tr>\n",
       "    <tr>\n",
       "      <th>2</th>\n",
       "      <td>Algeria</td>\n",
       "      <td>0</td>\n",
       "      <td>0</td>\n",
       "      <td>0</td>\n",
       "      <td>0</td>\n",
       "      <td>0</td>\n",
       "      <td>0</td>\n",
       "      <td>0</td>\n",
       "      <td>0</td>\n",
       "      <td>0</td>\n",
       "      <td>...</td>\n",
       "      <td>10382</td>\n",
       "      <td>10484</td>\n",
       "      <td>10589</td>\n",
       "      <td>10698</td>\n",
       "      <td>10810</td>\n",
       "      <td>10919</td>\n",
       "      <td>11031</td>\n",
       "      <td>11147</td>\n",
       "      <td>11268</td>\n",
       "      <td>11385</td>\n",
       "    </tr>\n",
       "    <tr>\n",
       "      <th>3</th>\n",
       "      <td>Andorra</td>\n",
       "      <td>0</td>\n",
       "      <td>0</td>\n",
       "      <td>0</td>\n",
       "      <td>0</td>\n",
       "      <td>0</td>\n",
       "      <td>0</td>\n",
       "      <td>0</td>\n",
       "      <td>0</td>\n",
       "      <td>0</td>\n",
       "      <td>...</td>\n",
       "      <td>852</td>\n",
       "      <td>852</td>\n",
       "      <td>852</td>\n",
       "      <td>853</td>\n",
       "      <td>853</td>\n",
       "      <td>853</td>\n",
       "      <td>853</td>\n",
       "      <td>854</td>\n",
       "      <td>854</td>\n",
       "      <td>855</td>\n",
       "    </tr>\n",
       "    <tr>\n",
       "      <th>4</th>\n",
       "      <td>Angola</td>\n",
       "      <td>0</td>\n",
       "      <td>0</td>\n",
       "      <td>0</td>\n",
       "      <td>0</td>\n",
       "      <td>0</td>\n",
       "      <td>0</td>\n",
       "      <td>0</td>\n",
       "      <td>0</td>\n",
       "      <td>0</td>\n",
       "      <td>...</td>\n",
       "      <td>96</td>\n",
       "      <td>113</td>\n",
       "      <td>118</td>\n",
       "      <td>130</td>\n",
       "      <td>138</td>\n",
       "      <td>140</td>\n",
       "      <td>142</td>\n",
       "      <td>148</td>\n",
       "      <td>155</td>\n",
       "      <td>166</td>\n",
       "    </tr>\n",
       "  </tbody>\n",
       "</table>\n",
       "<p>5 rows × 150 columns</p>\n",
       "</div>"
      ],
      "text/plain": [
       "  Country/Region  1/22/20  1/23/20  1/24/20  1/25/20  1/26/20  1/27/20  \\\n",
       "0    Afghanistan        0        0        0        0        0        0   \n",
       "1        Albania        0        0        0        0        0        0   \n",
       "2        Algeria        0        0        0        0        0        0   \n",
       "3        Andorra        0        0        0        0        0        0   \n",
       "4         Angola        0        0        0        0        0        0   \n",
       "\n",
       "   1/28/20  1/29/20  1/30/20  ...  6/9/20  6/10/20  6/11/20  6/12/20  6/13/20  \\\n",
       "0        0        0        0  ...   21459    22142    22890    23546    24102   \n",
       "1        0        0        0  ...    1299     1341     1385     1416     1464   \n",
       "2        0        0        0  ...   10382    10484    10589    10698    10810   \n",
       "3        0        0        0  ...     852      852      852      853      853   \n",
       "4        0        0        0  ...      96      113      118      130      138   \n",
       "\n",
       "   6/14/20  6/15/20  6/16/20  6/17/20  6/18/20  \n",
       "0    24766    25527    26310    26874    27532  \n",
       "1     1521     1590     1672     1722     1788  \n",
       "2    10919    11031    11147    11268    11385  \n",
       "3      853      853      854      854      855  \n",
       "4      140      142      148      155      166  \n",
       "\n",
       "[5 rows x 150 columns]"
      ]
     },
     "execution_count": 42,
     "metadata": {},
     "output_type": "execute_result"
    }
   ],
   "source": [
    "df = pd.read_csv('global_covid_confirmed_daily_updates.csv')\n",
    "df.head()"
   ]
  },
  {
   "cell_type": "markdown",
   "metadata": {},
   "source": [
    "## Transposing data"
   ]
  },
  {
   "cell_type": "code",
   "execution_count": 43,
   "metadata": {},
   "outputs": [
    {
     "name": "stdout",
     "output_type": "stream",
     "text": [
      "        Afghanistan Albania Algeria Andorra Angola Antigua and Barbuda  \\\n",
      "1/22/20           0       0       0       0      0                   0   \n",
      "1/23/20           0       0       0       0      0                   0   \n",
      "1/24/20           0       0       0       0      0                   0   \n",
      "1/25/20           0       0       0       0      0                   0   \n",
      "1/26/20           0       0       0       0      0                   0   \n",
      "...             ...     ...     ...     ...    ...                 ...   \n",
      "6/14/20       24766    1521   10919     853    140                  26   \n",
      "6/15/20       25527    1590   11031     853    142                  26   \n",
      "6/16/20       26310    1672   11147     854    148                  26   \n",
      "6/17/20       26874    1722   11268     854    155                  26   \n",
      "6/18/20       27532    1788   11385     855    166                  26   \n",
      "\n",
      "        Argentina Armenia Australia Austria  ... United Kingdom Uruguay  \\\n",
      "1/22/20         0       0         0       0  ...              0       0   \n",
      "1/23/20         0       0         0       0  ...              0       0   \n",
      "1/24/20         0       0         0       0  ...              0       0   \n",
      "1/25/20         0       0         0       0  ...              0       0   \n",
      "1/26/20         0       0         4       0  ...              0       0   \n",
      "...           ...     ...       ...     ...  ...            ...     ...   \n",
      "6/14/20     31577   16667      7335   17109  ...         297342     848   \n",
      "6/15/20     32785   17064      7347   17135  ...         298315     848   \n",
      "6/16/20     34159   17489      7370   17189  ...         299600     849   \n",
      "6/17/20     35552   18033      7391   17203  ...         300717     849   \n",
      "6/18/20     37510   18698      7409   17223  ...         301935     850   \n",
      "\n",
      "        Uzbekistan Venezuela Vietnam West Bank and Gaza Western Sahara Yemen  \\\n",
      "1/22/20          0         0       0                  0              0     0   \n",
      "1/23/20          0         0       2                  0              0     0   \n",
      "1/24/20          0         0       2                  0              0     0   \n",
      "1/25/20          0         0       2                  0              0     0   \n",
      "1/26/20          0         0       2                  0              0     0   \n",
      "...            ...       ...     ...                ...            ...   ...   \n",
      "6/14/20       5080      2978     334                492              9   728   \n",
      "6/15/20       5263      3062     334                505              9   844   \n",
      "6/16/20       5493      3150     334                514              9   885   \n",
      "6/17/20       5682      3386     335                555              9   902   \n",
      "6/18/20       5767      3483     342                600              9   909   \n",
      "\n",
      "        Zambia Zimbabwe  \n",
      "1/22/20      0        0  \n",
      "1/23/20      0        0  \n",
      "1/24/20      0        0  \n",
      "1/25/20      0        0  \n",
      "1/26/20      0        0  \n",
      "...        ...      ...  \n",
      "6/14/20   1358      383  \n",
      "6/15/20   1382      387  \n",
      "6/16/20   1405      391  \n",
      "6/17/20   1412      401  \n",
      "6/18/20   1416      463  \n",
      "\n",
      "[149 rows x 188 columns]\n"
     ]
    }
   ],
   "source": [
    "df = df.T\n",
    "country = df.iloc[0].to_list()\n",
    "df.columns = country\n",
    "df = df.drop('Country/Region')\n",
    "print(df)"
   ]
  },
  {
   "cell_type": "markdown",
   "metadata": {},
   "source": [
    "## converting transposed data into dataframe"
   ]
  },
  {
   "cell_type": "code",
   "execution_count": 44,
   "metadata": {},
   "outputs": [
    {
     "data": {
      "text/html": [
       "<div>\n",
       "<style scoped>\n",
       "    .dataframe tbody tr th:only-of-type {\n",
       "        vertical-align: middle;\n",
       "    }\n",
       "\n",
       "    .dataframe tbody tr th {\n",
       "        vertical-align: top;\n",
       "    }\n",
       "\n",
       "    .dataframe thead th {\n",
       "        text-align: right;\n",
       "    }\n",
       "</style>\n",
       "<table border=\"1\" class=\"dataframe\">\n",
       "  <thead>\n",
       "    <tr style=\"text-align: right;\">\n",
       "      <th></th>\n",
       "      <th>Afghanistan</th>\n",
       "      <th>Albania</th>\n",
       "      <th>Algeria</th>\n",
       "      <th>Andorra</th>\n",
       "      <th>Angola</th>\n",
       "      <th>Antigua and Barbuda</th>\n",
       "      <th>Argentina</th>\n",
       "      <th>Armenia</th>\n",
       "      <th>Australia</th>\n",
       "      <th>Austria</th>\n",
       "      <th>...</th>\n",
       "      <th>United Kingdom</th>\n",
       "      <th>Uruguay</th>\n",
       "      <th>Uzbekistan</th>\n",
       "      <th>Venezuela</th>\n",
       "      <th>Vietnam</th>\n",
       "      <th>West Bank and Gaza</th>\n",
       "      <th>Western Sahara</th>\n",
       "      <th>Yemen</th>\n",
       "      <th>Zambia</th>\n",
       "      <th>Zimbabwe</th>\n",
       "    </tr>\n",
       "  </thead>\n",
       "  <tbody>\n",
       "    <tr>\n",
       "      <th>1/22/20</th>\n",
       "      <td>0.0</td>\n",
       "      <td>0.0</td>\n",
       "      <td>0.0</td>\n",
       "      <td>0.0</td>\n",
       "      <td>0.0</td>\n",
       "      <td>0.0</td>\n",
       "      <td>0.0</td>\n",
       "      <td>0.0</td>\n",
       "      <td>0.0</td>\n",
       "      <td>0.0</td>\n",
       "      <td>...</td>\n",
       "      <td>0.0</td>\n",
       "      <td>0.0</td>\n",
       "      <td>0.0</td>\n",
       "      <td>0.0</td>\n",
       "      <td>0.0</td>\n",
       "      <td>0.0</td>\n",
       "      <td>0.0</td>\n",
       "      <td>0.0</td>\n",
       "      <td>0.0</td>\n",
       "      <td>0.0</td>\n",
       "    </tr>\n",
       "    <tr>\n",
       "      <th>1/23/20</th>\n",
       "      <td>0.0</td>\n",
       "      <td>0.0</td>\n",
       "      <td>0.0</td>\n",
       "      <td>0.0</td>\n",
       "      <td>0.0</td>\n",
       "      <td>0.0</td>\n",
       "      <td>0.0</td>\n",
       "      <td>0.0</td>\n",
       "      <td>0.0</td>\n",
       "      <td>0.0</td>\n",
       "      <td>...</td>\n",
       "      <td>0.0</td>\n",
       "      <td>0.0</td>\n",
       "      <td>0.0</td>\n",
       "      <td>0.0</td>\n",
       "      <td>2.0</td>\n",
       "      <td>0.0</td>\n",
       "      <td>0.0</td>\n",
       "      <td>0.0</td>\n",
       "      <td>0.0</td>\n",
       "      <td>0.0</td>\n",
       "    </tr>\n",
       "    <tr>\n",
       "      <th>1/24/20</th>\n",
       "      <td>0.0</td>\n",
       "      <td>0.0</td>\n",
       "      <td>0.0</td>\n",
       "      <td>0.0</td>\n",
       "      <td>0.0</td>\n",
       "      <td>0.0</td>\n",
       "      <td>0.0</td>\n",
       "      <td>0.0</td>\n",
       "      <td>0.0</td>\n",
       "      <td>0.0</td>\n",
       "      <td>...</td>\n",
       "      <td>0.0</td>\n",
       "      <td>0.0</td>\n",
       "      <td>0.0</td>\n",
       "      <td>0.0</td>\n",
       "      <td>2.0</td>\n",
       "      <td>0.0</td>\n",
       "      <td>0.0</td>\n",
       "      <td>0.0</td>\n",
       "      <td>0.0</td>\n",
       "      <td>0.0</td>\n",
       "    </tr>\n",
       "    <tr>\n",
       "      <th>1/25/20</th>\n",
       "      <td>0.0</td>\n",
       "      <td>0.0</td>\n",
       "      <td>0.0</td>\n",
       "      <td>0.0</td>\n",
       "      <td>0.0</td>\n",
       "      <td>0.0</td>\n",
       "      <td>0.0</td>\n",
       "      <td>0.0</td>\n",
       "      <td>0.0</td>\n",
       "      <td>0.0</td>\n",
       "      <td>...</td>\n",
       "      <td>0.0</td>\n",
       "      <td>0.0</td>\n",
       "      <td>0.0</td>\n",
       "      <td>0.0</td>\n",
       "      <td>2.0</td>\n",
       "      <td>0.0</td>\n",
       "      <td>0.0</td>\n",
       "      <td>0.0</td>\n",
       "      <td>0.0</td>\n",
       "      <td>0.0</td>\n",
       "    </tr>\n",
       "    <tr>\n",
       "      <th>1/26/20</th>\n",
       "      <td>0.0</td>\n",
       "      <td>0.0</td>\n",
       "      <td>0.0</td>\n",
       "      <td>0.0</td>\n",
       "      <td>0.0</td>\n",
       "      <td>0.0</td>\n",
       "      <td>0.0</td>\n",
       "      <td>0.0</td>\n",
       "      <td>4.0</td>\n",
       "      <td>0.0</td>\n",
       "      <td>...</td>\n",
       "      <td>0.0</td>\n",
       "      <td>0.0</td>\n",
       "      <td>0.0</td>\n",
       "      <td>0.0</td>\n",
       "      <td>2.0</td>\n",
       "      <td>0.0</td>\n",
       "      <td>0.0</td>\n",
       "      <td>0.0</td>\n",
       "      <td>0.0</td>\n",
       "      <td>0.0</td>\n",
       "    </tr>\n",
       "  </tbody>\n",
       "</table>\n",
       "<p>5 rows × 188 columns</p>\n",
       "</div>"
      ],
      "text/plain": [
       "         Afghanistan  Albania  Algeria  Andorra  Angola  Antigua and Barbuda  \\\n",
       "1/22/20          0.0      0.0      0.0      0.0     0.0                  0.0   \n",
       "1/23/20          0.0      0.0      0.0      0.0     0.0                  0.0   \n",
       "1/24/20          0.0      0.0      0.0      0.0     0.0                  0.0   \n",
       "1/25/20          0.0      0.0      0.0      0.0     0.0                  0.0   \n",
       "1/26/20          0.0      0.0      0.0      0.0     0.0                  0.0   \n",
       "\n",
       "         Argentina  Armenia  Australia  Austria  ...  United Kingdom  Uruguay  \\\n",
       "1/22/20        0.0      0.0        0.0      0.0  ...             0.0      0.0   \n",
       "1/23/20        0.0      0.0        0.0      0.0  ...             0.0      0.0   \n",
       "1/24/20        0.0      0.0        0.0      0.0  ...             0.0      0.0   \n",
       "1/25/20        0.0      0.0        0.0      0.0  ...             0.0      0.0   \n",
       "1/26/20        0.0      0.0        4.0      0.0  ...             0.0      0.0   \n",
       "\n",
       "         Uzbekistan  Venezuela  Vietnam  West Bank and Gaza  Western Sahara  \\\n",
       "1/22/20         0.0        0.0      0.0                 0.0             0.0   \n",
       "1/23/20         0.0        0.0      2.0                 0.0             0.0   \n",
       "1/24/20         0.0        0.0      2.0                 0.0             0.0   \n",
       "1/25/20         0.0        0.0      2.0                 0.0             0.0   \n",
       "1/26/20         0.0        0.0      2.0                 0.0             0.0   \n",
       "\n",
       "         Yemen  Zambia  Zimbabwe  \n",
       "1/22/20    0.0     0.0       0.0  \n",
       "1/23/20    0.0     0.0       0.0  \n",
       "1/24/20    0.0     0.0       0.0  \n",
       "1/25/20    0.0     0.0       0.0  \n",
       "1/26/20    0.0     0.0       0.0  \n",
       "\n",
       "[5 rows x 188 columns]"
      ]
     },
     "execution_count": 44,
     "metadata": {},
     "output_type": "execute_result"
    }
   ],
   "source": [
    "df = pd.DataFrame(df, dtype='float64')\n",
    "df.head()"
   ]
  },
  {
   "cell_type": "markdown",
   "metadata": {},
   "source": [
    "## converting index to 'Datatime index' for time series analysis"
   ]
  },
  {
   "cell_type": "code",
   "execution_count": 45,
   "metadata": {},
   "outputs": [
    {
     "data": {
      "text/plain": [
       "DatetimeIndex(['2020-01-22', '2020-01-23', '2020-01-24', '2020-01-25',\n",
       "               '2020-01-26', '2020-01-27', '2020-01-28', '2020-01-29',\n",
       "               '2020-01-30', '2020-01-31',\n",
       "               ...\n",
       "               '2020-06-09', '2020-06-10', '2020-06-11', '2020-06-12',\n",
       "               '2020-06-13', '2020-06-14', '2020-06-15', '2020-06-16',\n",
       "               '2020-06-17', '2020-06-18'],\n",
       "              dtype='datetime64[ns]', length=149, freq=None)"
      ]
     },
     "execution_count": 45,
     "metadata": {},
     "output_type": "execute_result"
    }
   ],
   "source": [
    "df.index = pd.to_datetime(df.index)\n",
    "df.index"
   ]
  },
  {
   "cell_type": "markdown",
   "metadata": {},
   "source": [
    "## datetime frequency to 'Daily' data"
   ]
  },
  {
   "cell_type": "code",
   "execution_count": 46,
   "metadata": {},
   "outputs": [
    {
     "data": {
      "text/plain": [
       "DatetimeIndex(['2020-01-22', '2020-01-23', '2020-01-24', '2020-01-25',\n",
       "               '2020-01-26', '2020-01-27', '2020-01-28', '2020-01-29',\n",
       "               '2020-01-30', '2020-01-31',\n",
       "               ...\n",
       "               '2020-06-09', '2020-06-10', '2020-06-11', '2020-06-12',\n",
       "               '2020-06-13', '2020-06-14', '2020-06-15', '2020-06-16',\n",
       "               '2020-06-17', '2020-06-18'],\n",
       "              dtype='datetime64[ns]', length=149, freq='D')"
      ]
     },
     "execution_count": 46,
     "metadata": {},
     "output_type": "execute_result"
    }
   ],
   "source": [
    "df.index.freq = 'D'\n",
    "df.index"
   ]
  },
  {
   "cell_type": "code",
   "execution_count": 47,
   "metadata": {},
   "outputs": [
    {
     "name": "stdout",
     "output_type": "stream",
     "text": [
      "<class 'pandas.core.frame.DataFrame'>\n",
      "DatetimeIndex: 149 entries, 2020-01-22 to 2020-06-18\n",
      "Freq: D\n",
      "Columns: 188 entries, Afghanistan to Zimbabwe\n",
      "dtypes: float64(188)\n",
      "memory usage: 220.0 KB\n"
     ]
    }
   ],
   "source": [
    "df.info()"
   ]
  },
  {
   "cell_type": "code",
   "execution_count": 48,
   "metadata": {},
   "outputs": [
    {
     "data": {
      "text/plain": [
       "DatetimeIndex(['2020-01-22', '2020-01-23', '2020-01-24', '2020-01-25',\n",
       "               '2020-01-26', '2020-01-27', '2020-01-28', '2020-01-29',\n",
       "               '2020-01-30', '2020-01-31',\n",
       "               ...\n",
       "               '2020-06-09', '2020-06-10', '2020-06-11', '2020-06-12',\n",
       "               '2020-06-13', '2020-06-14', '2020-06-15', '2020-06-16',\n",
       "               '2020-06-17', '2020-06-18'],\n",
       "              dtype='datetime64[ns]', length=149, freq='D')"
      ]
     },
     "execution_count": 48,
     "metadata": {},
     "output_type": "execute_result"
    }
   ],
   "source": [
    "df.index"
   ]
  },
  {
   "cell_type": "code",
   "execution_count": 49,
   "metadata": {},
   "outputs": [],
   "source": [
    "df.dropna(inplace=True)"
   ]
  },
  {
   "cell_type": "code",
   "execution_count": 50,
   "metadata": {
    "scrolled": false
   },
   "outputs": [
    {
     "data": {
      "text/plain": [
       "(149, 188)"
      ]
     },
     "execution_count": 50,
     "metadata": {},
     "output_type": "execute_result"
    }
   ],
   "source": [
    "df.shape"
   ]
  },
  {
   "cell_type": "code",
   "execution_count": 54,
   "metadata": {},
   "outputs": [
    {
     "data": {
      "text/plain": [
       "<matplotlib.axes._subplots.AxesSubplot at 0x2adf678a160>"
      ]
     },
     "execution_count": 54,
     "metadata": {},
     "output_type": "execute_result"
    },
    {
     "data": {
      "image/png": "[encoded data removed]",
      "text/plain": [
       "<Figure size 864x432 with 1 Axes>"
      ]
     },
     "metadata": {
      "needs_background": "light"
     },
     "output_type": "display_data"
    }
   ],
   "source": [
    "df['India'].plot(figsize = (12,6))"
   ]
  },
  {
   "cell_type": "code",
   "execution_count": 55,
   "metadata": {},
   "outputs": [
    {
     "data": {
      "text/plain": [
       "149"
      ]
     },
     "execution_count": 55,
     "metadata": {},
     "output_type": "execute_result"
    }
   ],
   "source": [
    "len(df)"
   ]
  },
  {
   "cell_type": "markdown",
   "metadata": {},
   "source": [
    "## Splitting data to train & test set"
   ]
  },
  {
   "cell_type": "code",
   "execution_count": 59,
   "metadata": {},
   "outputs": [],
   "source": [
    "train = df.iloc[:120]\n",
    "test = df.iloc[120:]"
   ]
  },
  {
   "cell_type": "code",
   "execution_count": 60,
   "metadata": {},
   "outputs": [
    {
     "data": {
      "text/plain": [
       "29"
      ]
     },
     "execution_count": 60,
     "metadata": {},
     "output_type": "execute_result"
    }
   ],
   "source": [
    "len(test)"
   ]
  },
  {
   "cell_type": "code",
   "execution_count": 61,
   "metadata": {},
   "outputs": [],
   "source": [
    "from statsmodels.tsa.stattools import adfuller\n",
    "\n",
    "import warnings\n",
    "warnings.filterwarnings(\"ignore\")"
   ]
  },
  {
   "cell_type": "markdown",
   "metadata": {},
   "source": [
    "## Augmented Dickey-Fuller Test\n",
    "\n",
    "Let's make a custom function to perform Augmented Dickey-Fuller test and check whether the data is stationary or not"
   ]
  },
  {
   "cell_type": "code",
   "execution_count": 62,
   "metadata": {},
   "outputs": [],
   "source": [
    "def adf_test(series,title=''):\n",
    "    \"\"\"\n",
    "    Pass in a time series and an optional title, returns an ADF report\n",
    "    \"\"\"\n",
    "    print(f'Augmented Dickey-Fuller Test: {title}')\n",
    "    result = adfuller(series.dropna(),autolag='AIC') # .dropna() handles differenced data\n",
    "    \n",
    "    labels = ['ADF test statistic','p-value','# lags used','# observations']\n",
    "    out = pd.Series(result[0:4],index=labels)\n",
    "\n",
    "    for key,val in result[4].items():\n",
    "        out[f'critical value ({key})']=val\n",
    "        \n",
    "    print(out.to_string())          # .to_string() removes the line \"dtype: float64\"\n",
    "    \n",
    "    if result[1] <= 0.05:\n",
    "        print(\"Strong evidence against the null hypothesis\")\n",
    "        print(\"Reject the null hypothesis\")\n",
    "        print(\"Data has no unit root and is stationary\")\n",
    "    else:\n",
    "        print(\"Weak evidence against the null hypothesis\")\n",
    "        print(\"Fail to reject the null hypothesis\")\n",
    "        print(\"Data has a unit root and is non-stationary\")"
   ]
  },
  {
   "cell_type": "code",
   "execution_count": 76,
   "metadata": {},
   "outputs": [
    {
     "name": "stdout",
     "output_type": "stream",
     "text": [
      "Augmented Dickey-Fuller Test: \n",
      "ADF test statistic       -4.658241\n",
      "p-value                   0.000101\n",
      "# lags used              14.000000\n",
      "# observations          134.000000\n",
      "critical value (1%)      -3.480119\n",
      "critical value (5%)      -2.883362\n",
      "critical value (10%)     -2.578407\n",
      "Strong evidence against the null hypothesis\n",
      "Reject the null hypothesis\n",
      "Data has no unit root and is stationary\n"
     ]
    }
   ],
   "source": [
    "adf_test(df['India'])"
   ]
  },
  {
   "cell_type": "markdown",
   "metadata": {},
   "source": [
    "## *As we can see that the data is stationary, we can apply ARIMA model to this data.*"
   ]
  },
  {
   "cell_type": "code",
   "execution_count": 77,
   "metadata": {},
   "outputs": [],
   "source": [
    "from pmdarima import auto_arima\n",
    "from statsmodels.tsa.arima_model import ARIMA,ARIMAResults"
   ]
  },
  {
   "cell_type": "markdown",
   "metadata": {},
   "source": [
    "## auto_arima\n",
    "In order to fit ARIMA model we have to find suitable p, d & q term. In order to do that we will use 'auto_arima' funtion from pmdarima (pyramid arima) library. It is very similar to 'grid search' we use in ML to find out suitable hyperparameters. Here, p, d, q terms are also like hyperparameters."
   ]
  },
  {
   "cell_type": "code",
   "execution_count": 78,
   "metadata": {},
   "outputs": [
    {
     "name": "stdout",
     "output_type": "stream",
     "text": [
      "Performing stepwise search to minimize aic\n",
      "Fit ARIMA(0,2,0)x(0,0,0,0) [intercept=True]; AIC=2246.816, BIC=2252.797, Time=0.025 seconds\n",
      "Fit ARIMA(1,2,0)x(0,0,0,0) [intercept=True]; AIC=2233.606, BIC=2242.577, Time=0.071 seconds\n",
      "Fit ARIMA(0,2,1)x(0,0,0,0) [intercept=True]; AIC=2228.860, BIC=2237.831, Time=0.302 seconds\n",
      "Fit ARIMA(0,2,0)x(0,0,0,0) [intercept=False]; AIC=2249.803, BIC=2252.793, Time=0.015 seconds\n",
      "Fit ARIMA(1,2,1)x(0,0,0,0) [intercept=True]; AIC=2230.814, BIC=2242.776, Time=0.446 seconds\n",
      "Fit ARIMA(0,2,2)x(0,0,0,0) [intercept=True]; AIC=2230.918, BIC=2242.879, Time=0.288 seconds\n",
      "Fit ARIMA(1,2,2)x(0,0,0,0) [intercept=True]; AIC=2226.309, BIC=2241.261, Time=0.561 seconds\n",
      "Near non-invertible roots for order (1, 2, 2)(0, 0, 0, 0); setting score to inf (at least one inverse root too close to the border of the unit circle: 1.000)\n",
      "Total fit time: 1.729 seconds\n"
     ]
    },
    {
     "data": {
      "text/html": [
       "<table class=\"simpletable\">\n",
       "<caption>SARIMAX Results</caption>\n",
       "<tr>\n",
       "  <th>Dep. Variable:</th>           <td>y</td>        <th>  No. Observations:  </th>    <td>149</td>   \n",
       "</tr>\n",
       "<tr>\n",
       "  <th>Model:</th>           <td>SARIMAX(1, 2, 2)</td> <th>  Log Likelihood     </th> <td>-1108.154</td>\n",
       "</tr>\n",
       "<tr>\n",
       "  <th>Date:</th>            <td>Tue, 23 Jun 2020</td> <th>  AIC                </th> <td>2226.309</td> \n",
       "</tr>\n",
       "<tr>\n",
       "  <th>Time:</th>                <td>01:29:06</td>     <th>  BIC                </th> <td>2241.261</td> \n",
       "</tr>\n",
       "<tr>\n",
       "  <th>Sample:</th>                  <td>0</td>        <th>  HQIC               </th> <td>2232.384</td> \n",
       "</tr>\n",
       "<tr>\n",
       "  <th></th>                      <td> - 149</td>      <th>                     </th>     <td> </td>    \n",
       "</tr>\n",
       "<tr>\n",
       "  <th>Covariance Type:</th>        <td>opg</td>       <th>                     </th>     <td> </td>    \n",
       "</tr>\n",
       "</table>\n",
       "<table class=\"simpletable\">\n",
       "<tr>\n",
       "      <td></td>         <th>coef</th>     <th>std err</th>      <th>z</th>      <th>P>|z|</th>  <th>[0.025</th>    <th>0.975]</th>  \n",
       "</tr>\n",
       "<tr>\n",
       "  <th>intercept</th> <td>  166.5880</td> <td>   51.918</td> <td>    3.209</td> <td> 0.001</td> <td>   64.831</td> <td>  268.345</td>\n",
       "</tr>\n",
       "<tr>\n",
       "  <th>ar.L1</th>     <td>   -0.8843</td> <td>    0.041</td> <td>  -21.677</td> <td> 0.000</td> <td>   -0.964</td> <td>   -0.804</td>\n",
       "</tr>\n",
       "<tr>\n",
       "  <th>ma.L1</th>     <td>    0.5635</td> <td>    0.925</td> <td>    0.609</td> <td> 0.543</td> <td>   -1.250</td> <td>    2.377</td>\n",
       "</tr>\n",
       "<tr>\n",
       "  <th>ma.L2</th>     <td>   -0.4361</td> <td>    0.423</td> <td>   -1.031</td> <td> 0.303</td> <td>   -1.265</td> <td>    0.393</td>\n",
       "</tr>\n",
       "<tr>\n",
       "  <th>sigma2</th>    <td> 2.035e+05</td> <td> 1.84e+05</td> <td>    1.104</td> <td> 0.269</td> <td>-1.58e+05</td> <td> 5.65e+05</td>\n",
       "</tr>\n",
       "</table>\n",
       "<table class=\"simpletable\">\n",
       "<tr>\n",
       "  <th>Ljung-Box (Q):</th>          <td>106.86</td> <th>  Jarque-Bera (JB):  </th> <td>81.89</td>\n",
       "</tr>\n",
       "<tr>\n",
       "  <th>Prob(Q):</th>                 <td>0.00</td>  <th>  Prob(JB):          </th> <td>0.00</td> \n",
       "</tr>\n",
       "<tr>\n",
       "  <th>Heteroskedasticity (H):</th>  <td>24.59</td> <th>  Skew:              </th> <td>0.46</td> \n",
       "</tr>\n",
       "<tr>\n",
       "  <th>Prob(H) (two-sided):</th>     <td>0.00</td>  <th>  Kurtosis:          </th> <td>6.54</td> \n",
       "</tr>\n",
       "</table><br/><br/>Warnings:<br/>[1] Covariance matrix calculated using the outer product of gradients (complex-step)."
      ],
      "text/plain": [
       "<class 'statsmodels.iolib.summary.Summary'>\n",
       "\"\"\"\n",
       "                               SARIMAX Results                                \n",
       "==============================================================================\n",
       "Dep. Variable:                      y   No. Observations:                  149\n",
       "Model:               SARIMAX(1, 2, 2)   Log Likelihood               -1108.154\n",
       "Date:                Tue, 23 Jun 2020   AIC                           2226.309\n",
       "Time:                        01:29:06   BIC                           2241.261\n",
       "Sample:                             0   HQIC                          2232.384\n",
       "                                - 149                                         \n",
       "Covariance Type:                  opg                                         \n",
       "==============================================================================\n",
       "                 coef    std err          z      P>|z|      [0.025      0.975]\n",
       "------------------------------------------------------------------------------\n",
       "intercept    166.5880     51.918      3.209      0.001      64.831     268.345\n",
       "ar.L1         -0.8843      0.041    -21.677      0.000      -0.964      -0.804\n",
       "ma.L1          0.5635      0.925      0.609      0.543      -1.250       2.377\n",
       "ma.L2         -0.4361      0.423     -1.031      0.303      -1.265       0.393\n",
       "sigma2      2.035e+05   1.84e+05      1.104      0.269   -1.58e+05    5.65e+05\n",
       "===================================================================================\n",
       "Ljung-Box (Q):                      106.86   Jarque-Bera (JB):                81.89\n",
       "Prob(Q):                              0.00   Prob(JB):                         0.00\n",
       "Heteroskedasticity (H):              24.59   Skew:                             0.46\n",
       "Prob(H) (two-sided):                  0.00   Kurtosis:                         6.54\n",
       "===================================================================================\n",
       "\n",
       "Warnings:\n",
       "[1] Covariance matrix calculated using the outer product of gradients (complex-step).\n",
       "\"\"\""
      ]
     },
     "execution_count": 78,
     "metadata": {},
     "output_type": "execute_result"
    }
   ],
   "source": [
    "stepwise_fit = auto_arima(df['India'], start_p=0, start_q=0,\n",
    "                          max_p=6, max_q=3, m=1,\n",
    "                          seasonal=False,\n",
    "                          d=None, trace=True,\n",
    "                          error_action='ignore',   # we don't want to know if an order does not work\n",
    "                          suppress_warnings=True,  # we don't want convergence warnings\n",
    "                          stepwise=True)           # set to stepwise\n",
    "\n",
    "stepwise_fit.summary()"
   ]
  },
  {
   "cell_type": "markdown",
   "metadata": {},
   "source": [
    "## Let's fit the ARIMA model with obtained order for the model"
   ]
  },
  {
   "cell_type": "code",
   "execution_count": 79,
   "metadata": {},
   "outputs": [
    {
     "data": {
      "text/html": [
       "<table class=\"simpletable\">\n",
       "<caption>ARIMA Model Results</caption>\n",
       "<tr>\n",
       "  <th>Dep. Variable:</th>     <td>D2.India</td>     <th>  No. Observations:  </th>    <td>118</td>  \n",
       "</tr>\n",
       "<tr>\n",
       "  <th>Model:</th>          <td>ARIMA(1, 2, 2)</td>  <th>  Log Likelihood     </th> <td>-832.796</td>\n",
       "</tr>\n",
       "<tr>\n",
       "  <th>Method:</th>             <td>css-mle</td>     <th>  S.D. of innovations</th>  <td>280.014</td>\n",
       "</tr>\n",
       "<tr>\n",
       "  <th>Date:</th>          <td>Tue, 23 Jun 2020</td> <th>  AIC                </th> <td>1675.592</td>\n",
       "</tr>\n",
       "<tr>\n",
       "  <th>Time:</th>              <td>01:30:01</td>     <th>  BIC                </th> <td>1689.446</td>\n",
       "</tr>\n",
       "<tr>\n",
       "  <th>Sample:</th>           <td>01-24-2020</td>    <th>  HQIC               </th> <td>1681.217</td>\n",
       "</tr>\n",
       "<tr>\n",
       "  <th></th>                 <td>- 05-20-2020</td>   <th>                     </th>     <td> </td>   \n",
       "</tr>\n",
       "</table>\n",
       "<table class=\"simpletable\">\n",
       "<tr>\n",
       "         <td></td>           <th>coef</th>     <th>std err</th>      <th>z</th>      <th>P>|z|</th>  <th>[0.025</th>    <th>0.975]</th>  \n",
       "</tr>\n",
       "<tr>\n",
       "  <th>const</th>          <td>   54.7358</td> <td>   26.781</td> <td>    2.044</td> <td> 0.041</td> <td>    2.245</td> <td>  107.226</td>\n",
       "</tr>\n",
       "<tr>\n",
       "  <th>ar.L1.D2.India</th> <td>    0.6852</td> <td>    0.128</td> <td>    5.365</td> <td> 0.000</td> <td>    0.435</td> <td>    0.936</td>\n",
       "</tr>\n",
       "<tr>\n",
       "  <th>ma.L1.D2.India</th> <td>   -1.3144</td> <td>    0.143</td> <td>   -9.173</td> <td> 0.000</td> <td>   -1.595</td> <td>   -1.034</td>\n",
       "</tr>\n",
       "<tr>\n",
       "  <th>ma.L2.D2.India</th> <td>    0.6439</td> <td>    0.124</td> <td>    5.175</td> <td> 0.000</td> <td>    0.400</td> <td>    0.888</td>\n",
       "</tr>\n",
       "</table>\n",
       "<table class=\"simpletable\">\n",
       "<caption>Roots</caption>\n",
       "<tr>\n",
       "    <td></td>   <th>            Real</th>  <th>         Imaginary</th> <th>         Modulus</th>  <th>        Frequency</th>\n",
       "</tr>\n",
       "<tr>\n",
       "  <th>AR.1</th> <td>           1.4594</td> <td>          +0.0000j</td> <td>           1.4594</td> <td>           0.0000</td>\n",
       "</tr>\n",
       "<tr>\n",
       "  <th>MA.1</th> <td>           1.0206</td> <td>          -0.7151j</td> <td>           1.2462</td> <td>          -0.0973</td>\n",
       "</tr>\n",
       "<tr>\n",
       "  <th>MA.2</th> <td>           1.0206</td> <td>          +0.7151j</td> <td>           1.2462</td> <td>           0.0973</td>\n",
       "</tr>\n",
       "</table>"
      ],
      "text/plain": [
       "<class 'statsmodels.iolib.summary.Summary'>\n",
       "\"\"\"\n",
       "                             ARIMA Model Results                              \n",
       "==============================================================================\n",
       "Dep. Variable:               D2.India   No. Observations:                  118\n",
       "Model:                 ARIMA(1, 2, 2)   Log Likelihood                -832.796\n",
       "Method:                       css-mle   S.D. of innovations            280.014\n",
       "Date:                Tue, 23 Jun 2020   AIC                           1675.592\n",
       "Time:                        01:30:01   BIC                           1689.446\n",
       "Sample:                    01-24-2020   HQIC                          1681.217\n",
       "                         - 05-20-2020                                         \n",
       "==================================================================================\n",
       "                     coef    std err          z      P>|z|      [0.025      0.975]\n",
       "----------------------------------------------------------------------------------\n",
       "const             54.7358     26.781      2.044      0.041       2.245     107.226\n",
       "ar.L1.D2.India     0.6852      0.128      5.365      0.000       0.435       0.936\n",
       "ma.L1.D2.India    -1.3144      0.143     -9.173      0.000      -1.595      -1.034\n",
       "ma.L2.D2.India     0.6439      0.124      5.175      0.000       0.400       0.888\n",
       "                                    Roots                                    \n",
       "=============================================================================\n",
       "                  Real          Imaginary           Modulus         Frequency\n",
       "-----------------------------------------------------------------------------\n",
       "AR.1            1.4594           +0.0000j            1.4594            0.0000\n",
       "MA.1            1.0206           -0.7151j            1.2462           -0.0973\n",
       "MA.2            1.0206           +0.7151j            1.2462            0.0973\n",
       "-----------------------------------------------------------------------------\n",
       "\"\"\""
      ]
     },
     "execution_count": 79,
     "metadata": {},
     "output_type": "execute_result"
    }
   ],
   "source": [
    "model = ARIMA(train['India'],order=(1,2,2))\n",
    "results = model.fit()\n",
    "results.summary()"
   ]
  },
  {
   "cell_type": "code",
   "execution_count": 68,
   "metadata": {},
   "outputs": [],
   "source": [
    "# Obtain predicted values\n",
    "start=len(train)\n",
    "end=len(train)+len(test)-1\n",
    "predictions = results.predict(start=start, end=end, dynamic=False, typ='levels').rename('ARIMA(1,2,2) Predictions')"
   ]
  },
  {
   "cell_type": "code",
   "execution_count": 69,
   "metadata": {
    "scrolled": true
   },
   "outputs": [
    {
     "name": "stdout",
     "output_type": "stream",
     "text": [
      "predicted=118047.4468, expected=118226.0\n",
      "predicted=124313.2577, expected=124794.0\n",
      "predicted=130765.1128, expected=131423.0\n",
      "predicted=137361.6793, expected=138536.0\n",
      "predicted=144074.635 , expected=144950.0\n",
      "predicted=150884.573 , expected=150793.0\n",
      "predicted=157778.195 , expected=158086.0\n",
      "predicted=164746.3889, expected=165386.0\n",
      "predicted=171782.9106, expected=173491.0\n",
      "predicted=178883.4819, expected=181827.0\n",
      "predicted=186045.1708, expected=190609.0\n",
      "predicted=193265.9685, expected=198370.0\n",
      "predicted=200544.4986, expected=207191.0\n",
      "predicted=207879.8177, expected=216824.0\n",
      "predicted=215271.2795, expected=226713.0\n",
      "predicted=222718.4412, expected=236184.0\n",
      "predicted=230220.9993, expected=246622.0\n",
      "predicted=237778.7458, expected=257486.0\n",
      "predicted=245391.5382, expected=265928.0\n",
      "predicted=253059.2789, expected=276146.0\n",
      "predicted=260781.9011, expected=286605.0\n",
      "predicted=268559.3588, expected=297535.0\n",
      "predicted=276391.6206, expected=308993.0\n",
      "predicted=284278.6651, expected=320922.0\n",
      "predicted=292220.4774, expected=332424.0\n",
      "predicted=300217.0475, expected=343091.0\n",
      "predicted=308268.3684, expected=354065.0\n",
      "predicted=316374.4354, expected=366946.0\n",
      "predicted=324535.2453, expected=380532.0\n"
     ]
    }
   ],
   "source": [
    "# Compare predictions to expected values\n",
    "for i in range(len(predictions)):\n",
    "    print(f\"predicted={predictions[i]:<11.10}, expected={test['India'][i]}\")"
   ]
  },
  {
   "cell_type": "code",
   "execution_count": 71,
   "metadata": {},
   "outputs": [
    {
     "name": "stdout",
     "output_type": "stream",
     "text": [
      "ARIMA(1,2,2) MSE Error: 595423774.8\n"
     ]
    }
   ],
   "source": [
    "from sklearn.metrics import mean_squared_error\n",
    "\n",
    "error = mean_squared_error(test['India'], predictions)\n",
    "print(f'ARIMA(1,2,2) MSE Error: {error:11.10}')"
   ]
  },
  {
   "cell_type": "code",
   "execution_count": 72,
   "metadata": {},
   "outputs": [
    {
     "name": "stdout",
     "output_type": "stream",
     "text": [
      "ARIMA(1,2,2) RMSE Error: 24401.30683\n"
     ]
    }
   ],
   "source": [
    "from statsmodels.tools.eval_measures import rmse\n",
    "\n",
    "error = rmse(test['India'], predictions)\n",
    "print(f'ARIMA(1,2,2) RMSE Error: {error:11.10}')"
   ]
  },
  {
   "cell_type": "code",
   "execution_count": 73,
   "metadata": {},
   "outputs": [],
   "source": [
    "model = ARIMA(df['India'],order=(1,2,2))\n",
    "results = model.fit()\n",
    "fcast = results.predict(len(df),len(df)+1,typ='levels').rename('ARIMA(1,2,2) Forecast')"
   ]
  },
  {
   "cell_type": "markdown",
   "metadata": {},
   "source": [
    "## Predicted values in future"
   ]
  },
  {
   "cell_type": "code",
   "execution_count": 74,
   "metadata": {},
   "outputs": [
    {
     "data": {
      "text/plain": [
       "2020-06-19    393303.589772\n",
       "2020-06-20    405266.630838\n",
       "Freq: D, Name: ARIMA(1,2,2) Forecast, dtype: float64"
      ]
     },
     "execution_count": 74,
     "metadata": {},
     "output_type": "execute_result"
    }
   ],
   "source": [
    "fcast"
   ]
  },
  {
   "cell_type": "code",
   "execution_count": 75,
   "metadata": {},
   "outputs": [
    {
     "data": {
      "image/png": "[encoded data removed]",
      "text/plain": [
       "<Figure size 864x432 with 1 Axes>"
      ]
     },
     "metadata": {
      "needs_background": "light"
     },
     "output_type": "display_data"
    }
   ],
   "source": [
    "# Plot predictions against known values\n",
    "\n",
    "ax = df['India'].plot(legend=True,figsize=(12,6))\n",
    "fcast.plot(legend=True)\n",
    "ax.autoscale(axis='x',tight=True)"
   ]
  },
  {
   "cell_type": "code",
   "execution_count": null,
   "metadata": {},
   "outputs": [],
   "source": []
  }
 ],
 "metadata": {
  "kernelspec": {
   "display_name": "Python 3",
   "language": "python",
   "name": "python3"
  },
  "language_info": {
   "codemirror_mode": {
    "name": "ipython",
    "version": 3
   },
   "file_extension": ".py",
   "mimetype": "text/x-python",
   "name": "python",
   "nbconvert_exporter": "python",
   "pygments_lexer": "ipython3",
   "version": "3.6.10"
  }
 },
 "nbformat": 4,
 "nbformat_minor": 4
}
